{
 "cells": [
  {
   "cell_type": "markdown",
   "metadata": {},
   "source": [
    "# Softmax exercise\n",
    "\n",
    "*Complete and hand in this completed worksheet (including its outputs and any supporting code outside of the worksheet) with your assignment submission. For more details see the [assignments page](http://vision.stanford.edu/teaching/cs231n/assignments.html) on the course website.*\n",
    "\n",
    "This exercise is analogous to the SVM exercise. You will:\n",
    "\n",
    "- implement a fully-vectorized **loss function** for the Softmax classifier\n",
    "- implement the fully-vectorized expression for its **analytic gradient**\n",
    "- **check your implementation** with numerical gradient\n",
    "- use a validation set to **tune the learning rate and regularization** strength\n",
    "- **optimize** the loss function with **SGD**\n",
    "- **visualize** the final learned weights\n"
   ]
  },
  {
   "cell_type": "code",
   "execution_count": 1,
   "metadata": {},
   "outputs": [],
   "source": [
    "import random\n",
    "import numpy as np\n",
    "from cs231n.data_utils import load_CIFAR10\n",
    "import matplotlib.pyplot as plt\n",
    "\n",
    "from __future__ import print_function\n",
    "\n",
    "%matplotlib inline\n",
    "plt.rcParams['figure.figsize'] = (10.0, 8.0) # set default size of plots\n",
    "plt.rcParams['image.interpolation'] = 'nearest'\n",
    "plt.rcParams['image.cmap'] = 'gray'\n",
    "\n",
    "# for auto-reloading extenrnal modules\n",
    "# see http://stackoverflow.com/questions/1907993/autoreload-of-modules-in-ipython\n",
    "%load_ext autoreload\n",
    "%autoreload 2"
   ]
  },
  {
   "cell_type": "code",
   "execution_count": 2,
   "metadata": {},
   "outputs": [
    {
     "name": "stdout",
     "output_type": "stream",
     "text": [
      "Train data shape:  (49000, 3073)\n",
      "Train labels shape:  (49000,)\n",
      "Validation data shape:  (1000, 3073)\n",
      "Validation labels shape:  (1000,)\n",
      "Test data shape:  (1000, 3073)\n",
      "Test labels shape:  (1000,)\n",
      "dev data shape:  (500, 3073)\n",
      "dev labels shape:  (500,)\n"
     ]
    }
   ],
   "source": [
    "def get_CIFAR10_data(num_training=49000, num_validation=1000, num_test=1000, num_dev=500):\n",
    "    \"\"\"\n",
    "    Load the CIFAR-10 dataset from disk and perform preprocessing to prepare\n",
    "    it for the linear classifier. These are the same steps as we used for the\n",
    "    SVM, but condensed to a single function.  \n",
    "    \"\"\"\n",
    "    # Load the raw CIFAR-10 data\n",
    "    cifar10_dir = 'cs231n/datasets/cifar-10-batches-py'\n",
    "    X_train, y_train, X_test, y_test = load_CIFAR10(cifar10_dir)\n",
    "    \n",
    "    # subsample the data\n",
    "    mask = list(range(num_training, num_training + num_validation))\n",
    "    X_val = X_train[mask]\n",
    "    y_val = y_train[mask]\n",
    "    mask = list(range(num_training))\n",
    "    X_train = X_train[mask]\n",
    "    y_train = y_train[mask]\n",
    "    mask = list(range(num_test))\n",
    "    X_test = X_test[mask]\n",
    "    y_test = y_test[mask]\n",
    "    mask = np.random.choice(num_training, num_dev, replace=False)\n",
    "    X_dev = X_train[mask]\n",
    "    y_dev = y_train[mask]\n",
    "    \n",
    "    # Preprocessing: reshape the image data into rows\n",
    "    X_train = np.reshape(X_train, (X_train.shape[0], -1))\n",
    "    X_val = np.reshape(X_val, (X_val.shape[0], -1))\n",
    "    X_test = np.reshape(X_test, (X_test.shape[0], -1))\n",
    "    X_dev = np.reshape(X_dev, (X_dev.shape[0], -1))\n",
    "    \n",
    "    # Normalize the data: subtract the mean image\n",
    "    mean_image = np.mean(X_train, axis = 0)\n",
    "    X_train -= mean_image\n",
    "    X_val -= mean_image\n",
    "    X_test -= mean_image\n",
    "    X_dev -= mean_image\n",
    "    \n",
    "    # add bias dimension and transform into columns\n",
    "    X_train = np.hstack([X_train, np.ones((X_train.shape[0], 1))])\n",
    "    X_val = np.hstack([X_val, np.ones((X_val.shape[0], 1))])\n",
    "    X_test = np.hstack([X_test, np.ones((X_test.shape[0], 1))])\n",
    "    X_dev = np.hstack([X_dev, np.ones((X_dev.shape[0], 1))])\n",
    "    \n",
    "    return X_train, y_train, X_val, y_val, X_test, y_test, X_dev, y_dev\n",
    "\n",
    "\n",
    "# Invoke the above function to get our data.\n",
    "X_train, y_train, X_val, y_val, X_test, y_test, X_dev, y_dev = get_CIFAR10_data()\n",
    "print('Train data shape: ', X_train.shape)\n",
    "print('Train labels shape: ', y_train.shape)\n",
    "print('Validation data shape: ', X_val.shape)\n",
    "print('Validation labels shape: ', y_val.shape)\n",
    "print('Test data shape: ', X_test.shape)\n",
    "print('Test labels shape: ', y_test.shape)\n",
    "print('dev data shape: ', X_dev.shape)\n",
    "print('dev labels shape: ', y_dev.shape)"
   ]
  },
  {
   "cell_type": "markdown",
   "metadata": {},
   "source": [
    "## Softmax Classifier\n",
    "\n",
    "Your code for this section will all be written inside **cs231n/classifiers/softmax.py**. \n"
   ]
  },
  {
   "cell_type": "code",
   "execution_count": 3,
   "metadata": {},
   "outputs": [
    {
     "name": "stdout",
     "output_type": "stream",
     "text": [
      "loss: 2.348479\n",
      "sanity check: 2.302585\n"
     ]
    }
   ],
   "source": [
    "# First implement the naive softmax loss function with nested loops.\n",
    "# Open the file cs231n/classifiers/softmax.py and implement the\n",
    "# softmax_loss_naive function.\n",
    "\n",
    "from cs231n.classifiers.softmax import softmax_loss_naive\n",
    "import time\n",
    "\n",
    "# Generate a random softmax weight matrix and use it to compute the loss.\n",
    "W = np.random.randn(3073, 10) * 0.0001\n",
    "loss, grad = softmax_loss_naive(W, X_dev, y_dev, 0.0)\n",
    "\n",
    "# As a rough sanity check, our loss should be something close to -log(0.1).\n",
    "print('loss: %f' % loss)\n",
    "print('sanity check: %f' % (-np.log(0.1)))"
   ]
  },
  {
   "cell_type": "markdown",
   "metadata": {},
   "source": [
    "## Inline Question 1:\n",
    "Why do we expect our loss to be close to -log(0.1)? Explain briefly.**\n",
    "\n",
    "**Your answer:** *Bởi vì lúc khởi tạo trọng số W ngẫu nhiên thì logit ứng với mỗi class là xấp xỉ ngang nhau (có thể hiểu là model chưa có tri thức, chưa phân biệt được đâu là label đúng), do đó loss ~ -log(1/C) = log(C) = log(10)*\n"
   ]
  },
  {
   "cell_type": "code",
   "execution_count": 4,
   "metadata": {},
   "outputs": [
    {
     "name": "stdout",
     "output_type": "stream",
     "text": [
      "numerical: -0.136990 analytic: -0.136990, relative error: 3.202597e-07\n",
      "numerical: 2.183805 analytic: 2.183805, relative error: 2.296188e-08\n",
      "numerical: 3.473353 analytic: 3.473353, relative error: 2.079913e-08\n",
      "numerical: 1.727825 analytic: 1.727825, relative error: 1.309733e-08\n",
      "numerical: 0.721048 analytic: 0.721048, relative error: 4.559858e-08\n",
      "numerical: 2.356922 analytic: 2.356922, relative error: 2.281151e-08\n",
      "numerical: 0.170925 analytic: 0.170925, relative error: 4.442946e-07\n",
      "numerical: -1.783074 analytic: -1.783074, relative error: 3.504848e-10\n",
      "numerical: 1.436163 analytic: 1.436163, relative error: 3.105302e-08\n",
      "numerical: 1.441329 analytic: 1.441329, relative error: 5.177310e-08\n",
      "numerical: -4.368542 analytic: -4.368542, relative error: 5.751143e-10\n",
      "numerical: -1.266082 analytic: -1.266082, relative error: 5.086935e-08\n",
      "numerical: -2.067089 analytic: -2.067089, relative error: 1.247374e-08\n",
      "numerical: 2.172848 analytic: 2.172848, relative error: 1.082803e-08\n",
      "numerical: 1.299588 analytic: 1.299588, relative error: 3.552805e-08\n",
      "numerical: -1.377106 analytic: -1.377106, relative error: 1.776211e-08\n",
      "numerical: -2.052678 analytic: -2.052678, relative error: 1.400803e-08\n",
      "numerical: -2.206892 analytic: -2.206892, relative error: 1.014148e-08\n",
      "numerical: 2.216986 analytic: 2.216986, relative error: 9.397386e-09\n",
      "numerical: -1.102761 analytic: -1.102761, relative error: 7.069551e-09\n"
     ]
    }
   ],
   "source": [
    "# Complete the implementation of softmax_loss_naive and implement a (naive)\n",
    "# version of the gradient that uses nested loops.\n",
    "loss, grad = softmax_loss_naive(W, X_dev, y_dev, 0.0)\n",
    "\n",
    "# As we did for the SVM, use numeric gradient checking as a debugging tool.\n",
    "# The numeric gradient should be close to the analytic gradient.\n",
    "from cs231n.gradient_check import grad_check_sparse\n",
    "f = lambda w: softmax_loss_naive(w, X_dev, y_dev, 0.0)[0]\n",
    "grad_numerical = grad_check_sparse(f, W, grad, 10)\n",
    "\n",
    "# similar to SVM case, do another gradient check with regularization\n",
    "loss, grad = softmax_loss_naive(W, X_dev, y_dev, 5e1)\n",
    "f = lambda w: softmax_loss_naive(w, X_dev, y_dev, 5e1)[0]\n",
    "grad_numerical = grad_check_sparse(f, W, grad, 10)"
   ]
  },
  {
   "cell_type": "code",
   "execution_count": 5,
   "metadata": {},
   "outputs": [
    {
     "name": "stdout",
     "output_type": "stream",
     "text": [
      "naive loss: 2.348479e+00 computed in 0.222017s\n",
      "vectorized loss: 2.348479e+00 computed in 0.025248s\n",
      "Loss difference: 0.000000\n",
      "Gradient difference: 0.000000\n"
     ]
    }
   ],
   "source": [
    "# Now that we have a naive implementation of the softmax loss function and its gradient,\n",
    "# implement a vectorized version in softmax_loss_vectorized.\n",
    "# The two versions should compute the same results, but the vectorized version should be\n",
    "# much faster.\n",
    "tic = time.time()\n",
    "loss_naive, grad_naive = softmax_loss_naive(W, X_dev, y_dev, 0.000005)\n",
    "toc = time.time()\n",
    "print('naive loss: %e computed in %fs' % (loss_naive, toc - tic))\n",
    "\n",
    "from cs231n.classifiers.softmax import softmax_loss_vectorized\n",
    "tic = time.time()\n",
    "loss_vectorized, grad_vectorized = softmax_loss_vectorized(W, X_dev, y_dev, 0.000005)\n",
    "toc = time.time()\n",
    "print('vectorized loss: %e computed in %fs' % (loss_vectorized, toc - tic))\n",
    "\n",
    "# As we did for the SVM, we use the Frobenius norm to compare the two versions\n",
    "# of the gradient.\n",
    "grad_difference = np.linalg.norm(grad_naive - grad_vectorized, ord='fro')\n",
    "print('Loss difference: %f' % np.abs(loss_naive - loss_vectorized))\n",
    "print('Gradient difference: %f' % grad_difference)"
   ]
  },
  {
   "cell_type": "code",
   "execution_count": 9,
   "metadata": {},
   "outputs": [
    {
     "name": "stdout",
     "output_type": "stream",
     "text": [
      "Training (1/50)\n",
      "Training (2/50)\n",
      "Training (3/50)\n",
      "Training (4/50)\n",
      "Training (5/50)\n",
      "Training (6/50)\n",
      "Training (7/50)\n",
      "Training (8/50)\n",
      "Training (9/50)\n",
      "Training (10/50)\n",
      "Training (11/50)\n",
      "Training (12/50)\n",
      "Training (13/50)\n",
      "Training (14/50)\n",
      "Training (15/50)\n",
      "Training (16/50)\n",
      "Training (17/50)\n",
      "Training (18/50)\n",
      "Training (19/50)\n",
      "Training (20/50)\n",
      "Training (21/50)\n",
      "Training (22/50)\n",
      "Training (23/50)\n",
      "Training (24/50)\n",
      "Training (25/50)\n",
      "Training (26/50)\n",
      "Training (27/50)\n",
      "Training (28/50)\n",
      "Training (29/50)\n",
      "Training (30/50)\n",
      "Training (31/50)\n",
      "Training (32/50)\n",
      "Training (33/50)\n",
      "Training (34/50)\n",
      "Training (35/50)\n",
      "Training (36/50)\n",
      "Training (37/50)\n",
      "Training (38/50)\n",
      "Training (39/50)\n",
      "Training (40/50)\n"
     ]
    },
    {
     "name": "stderr",
     "output_type": "stream",
     "text": [
      "/media/quanchu/09480F9A09480F9A/workspace/Learning/ActiveLearn_DeepLearning/Code/assignment1/cs231n/classifiers/softmax.py:95: RuntimeWarning: divide by zero encountered in log\n",
      "  loss = np.sum(-np.log(prob[range(N), y])) / N\n"
     ]
    },
    {
     "name": "stdout",
     "output_type": "stream",
     "text": [
      "Training (41/50)\n",
      "Training (42/50)\n",
      "Training (43/50)\n",
      "Training (44/50)\n",
      "Training (45/50)\n",
      "Training (46/50)\n",
      "Training (47/50)\n",
      "Training (48/50)\n",
      "Training (49/50)\n",
      "Training (50/50)\n",
      "lr 1.000000e-07 reg 1.000000e-04 train accuracy: 0.177959 val accuracy: 0.185000\n",
      "lr 1.000000e-07 reg 5.623413e-04 train accuracy: 0.174245 val accuracy: 0.163000\n",
      "lr 1.000000e-07 reg 3.162278e-03 train accuracy: 0.194020 val accuracy: 0.192000\n",
      "lr 1.000000e-07 reg 1.778279e-02 train accuracy: 0.182408 val accuracy: 0.185000\n",
      "lr 1.000000e-07 reg 1.000000e-01 train accuracy: 0.185714 val accuracy: 0.183000\n",
      "lr 2.782559e-07 reg 1.000000e-04 train accuracy: 0.224367 val accuracy: 0.228000\n",
      "lr 2.782559e-07 reg 5.623413e-04 train accuracy: 0.218143 val accuracy: 0.239000\n",
      "lr 2.782559e-07 reg 3.162278e-03 train accuracy: 0.223551 val accuracy: 0.211000\n",
      "lr 2.782559e-07 reg 1.778279e-02 train accuracy: 0.221367 val accuracy: 0.246000\n",
      "lr 2.782559e-07 reg 1.000000e-01 train accuracy: 0.233673 val accuracy: 0.244000\n",
      "lr 7.742637e-07 reg 1.000000e-04 train accuracy: 0.272367 val accuracy: 0.293000\n",
      "lr 7.742637e-07 reg 5.623413e-04 train accuracy: 0.270102 val accuracy: 0.256000\n",
      "lr 7.742637e-07 reg 3.162278e-03 train accuracy: 0.267898 val accuracy: 0.260000\n",
      "lr 7.742637e-07 reg 1.778279e-02 train accuracy: 0.262796 val accuracy: 0.282000\n",
      "lr 7.742637e-07 reg 1.000000e-01 train accuracy: 0.269755 val accuracy: 0.278000\n",
      "lr 2.154435e-06 reg 1.000000e-04 train accuracy: 0.309551 val accuracy: 0.316000\n",
      "lr 2.154435e-06 reg 5.623413e-04 train accuracy: 0.308102 val accuracy: 0.309000\n",
      "lr 2.154435e-06 reg 3.162278e-03 train accuracy: 0.309531 val accuracy: 0.300000\n",
      "lr 2.154435e-06 reg 1.778279e-02 train accuracy: 0.310184 val accuracy: 0.319000\n",
      "lr 2.154435e-06 reg 1.000000e-01 train accuracy: 0.309469 val accuracy: 0.299000\n",
      "lr 5.994843e-06 reg 1.000000e-04 train accuracy: 0.332082 val accuracy: 0.324000\n",
      "lr 5.994843e-06 reg 5.623413e-04 train accuracy: 0.309939 val accuracy: 0.318000\n",
      "lr 5.994843e-06 reg 3.162278e-03 train accuracy: 0.327163 val accuracy: 0.313000\n",
      "lr 5.994843e-06 reg 1.778279e-02 train accuracy: 0.317878 val accuracy: 0.305000\n",
      "lr 5.994843e-06 reg 1.000000e-01 train accuracy: 0.332816 val accuracy: 0.330000\n",
      "lr 1.668101e-05 reg 1.000000e-04 train accuracy: 0.271918 val accuracy: 0.273000\n",
      "lr 1.668101e-05 reg 5.623413e-04 train accuracy: 0.313204 val accuracy: 0.301000\n",
      "lr 1.668101e-05 reg 3.162278e-03 train accuracy: 0.339245 val accuracy: 0.341000\n",
      "lr 1.668101e-05 reg 1.778279e-02 train accuracy: 0.281429 val accuracy: 0.294000\n",
      "lr 1.668101e-05 reg 1.000000e-01 train accuracy: 0.257490 val accuracy: 0.257000\n",
      "lr 4.641589e-05 reg 1.000000e-04 train accuracy: 0.280265 val accuracy: 0.275000\n",
      "lr 4.641589e-05 reg 5.623413e-04 train accuracy: 0.271265 val accuracy: 0.268000\n",
      "lr 4.641589e-05 reg 3.162278e-03 train accuracy: 0.287000 val accuracy: 0.275000\n",
      "lr 4.641589e-05 reg 1.778279e-02 train accuracy: 0.266429 val accuracy: 0.285000\n",
      "lr 4.641589e-05 reg 1.000000e-01 train accuracy: 0.269959 val accuracy: 0.255000\n",
      "lr 1.291550e-04 reg 1.000000e-04 train accuracy: 0.304082 val accuracy: 0.293000\n",
      "lr 1.291550e-04 reg 5.623413e-04 train accuracy: 0.244061 val accuracy: 0.231000\n",
      "lr 1.291550e-04 reg 3.162278e-03 train accuracy: 0.298224 val accuracy: 0.302000\n",
      "lr 1.291550e-04 reg 1.778279e-02 train accuracy: 0.274959 val accuracy: 0.263000\n",
      "lr 1.291550e-04 reg 1.000000e-01 train accuracy: 0.263714 val accuracy: 0.281000\n",
      "lr 3.593814e-04 reg 1.000000e-04 train accuracy: 0.257327 val accuracy: 0.264000\n",
      "lr 3.593814e-04 reg 5.623413e-04 train accuracy: 0.303755 val accuracy: 0.306000\n",
      "lr 3.593814e-04 reg 3.162278e-03 train accuracy: 0.244531 val accuracy: 0.249000\n",
      "lr 3.593814e-04 reg 1.778279e-02 train accuracy: 0.261163 val accuracy: 0.279000\n",
      "lr 3.593814e-04 reg 1.000000e-01 train accuracy: 0.302306 val accuracy: 0.332000\n",
      "lr 1.000000e-03 reg 1.000000e-04 train accuracy: 0.272388 val accuracy: 0.267000\n",
      "lr 1.000000e-03 reg 5.623413e-04 train accuracy: 0.302327 val accuracy: 0.284000\n",
      "lr 1.000000e-03 reg 3.162278e-03 train accuracy: 0.298939 val accuracy: 0.312000\n",
      "lr 1.000000e-03 reg 1.778279e-02 train accuracy: 0.272388 val accuracy: 0.270000\n",
      "lr 1.000000e-03 reg 1.000000e-01 train accuracy: 0.266837 val accuracy: 0.252000\n",
      "best validation accuracy achieved during cross-validation: 0.341000\n"
     ]
    }
   ],
   "source": [
    "# Use the validation set to tune hyperparameters (regularization strength and\n",
    "# learning rate). You should experiment with different ranges for the learning\n",
    "# rates and regularization strengths; if you are careful you should be able to\n",
    "# get a classification accuracy of over 0.35 on the validation set.\n",
    "from cs231n.classifiers import Softmax\n",
    "results = {}\n",
    "best_val = -1\n",
    "best_softmax = None\n",
    "learning_rates = [1e-7, 5e-7]\n",
    "regularization_strengths = [2.5e4, 5e4]\n",
    "\n",
    "################################################################################\n",
    "# TODO:                                                                        #\n",
    "# Use the validation set to set the learning rate and regularization strength. #\n",
    "# This should be identical to the validation that you did for the SVM; save    #\n",
    "# the best trained softmax classifer in best_softmax.                          #\n",
    "################################################################################\n",
    "learning_rates = np.logspace(-7, -3, 10)\n",
    "# regularization_strengths = [1]\n",
    "regularization_strengths = np.logspace(-4, -1, 5)\n",
    "n_iters = 300\n",
    "n_hyper_params = len(learning_rates) * len(regularization_strengths)\n",
    "i = 0\n",
    "for lr in learning_rates:\n",
    "    for reg in regularization_strengths:\n",
    "        softmax = Softmax()\n",
    "        softmax.train(X_train, y_train, learning_rate=lr, reg=reg, num_iters=n_iters)\n",
    "        \n",
    "        y_train_pred = softmax.predict(X_train)\n",
    "        acc_train = np.mean(y_train == y_train_pred)\n",
    "        y_val_pred = softmax.predict(X_val)\n",
    "        acc_val = np.mean(y_val == y_val_pred)\n",
    "        \n",
    "        results[(lr, reg)] = (acc_train, acc_val)\n",
    "        i += 1\n",
    "        print(\"Training ({}/{})\".format(i, n_hyper_params))\n",
    "        \n",
    "        if best_val < acc_val:\n",
    "            best_val = acc_val\n",
    "            best_softmax = softmax\n",
    "\n",
    "################################################################################\n",
    "#                              END OF YOUR CODE                                #\n",
    "################################################################################\n",
    "    \n",
    "# Print out results.\n",
    "for lr, reg in sorted(results):\n",
    "    train_accuracy, val_accuracy = results[(lr, reg)]\n",
    "    print('lr %e reg %e train accuracy: %f val accuracy: %f' % (\n",
    "                lr, reg, train_accuracy, val_accuracy))\n",
    "    \n",
    "print('best validation accuracy achieved during cross-validation: %f' % best_val)"
   ]
  },
  {
   "cell_type": "code",
   "execution_count": 10,
   "metadata": {},
   "outputs": [
    {
     "name": "stdout",
     "output_type": "stream",
     "text": [
      "softmax on raw pixels final test set accuracy: 0.301000\n"
     ]
    }
   ],
   "source": [
    "# evaluate on test set\n",
    "# Evaluate the best softmax on test set\n",
    "y_test_pred = best_softmax.predict(X_test)\n",
    "test_accuracy = np.mean(y_test == y_test_pred)\n",
    "print('softmax on raw pixels final test set accuracy: %f' % (test_accuracy, ))"
   ]
  },
  {
   "cell_type": "code",
   "execution_count": 11,
   "metadata": {},
   "outputs": [
    {
     "data": {
      "image/png": "[encoded data removed]",
      "text/plain": [
       "<Figure size 432x288 with 10 Axes>"
      ]
     },
     "metadata": {},
     "output_type": "display_data"
    }
   ],
   "source": [
    "# Visualize the learned weights for each class\n",
    "w = best_softmax.W[:-1,:] # strip out the bias\n",
    "w = w.reshape(32, 32, 3, 10)\n",
    "\n",
    "w_min, w_max = np.min(w), np.max(w)\n",
    "\n",
    "classes = ['plane', 'car', 'bird', 'cat', 'deer', 'dog', 'frog', 'horse', 'ship', 'truck']\n",
    "for i in range(10):\n",
    "    plt.subplot(2, 5, i + 1)\n",
    "    \n",
    "    # Rescale the weights to be between 0 and 255\n",
    "    wimg = 255.0 * (w[:, :, :, i].squeeze() - w_min) / (w_max - w_min)\n",
    "    plt.imshow(wimg.astype('uint8'))\n",
    "    plt.axis('off')\n",
    "    plt.title(classes[i])"
   ]
  },
  {
   "cell_type": "code",
   "execution_count": null,
   "metadata": {},
   "outputs": [],
   "source": []
  }
 ],
 "metadata": {
  "kernelspec": {
   "display_name": "Python 3",
   "language": "python",
   "name": "python3"
  },
  "language_info": {
   "codemirror_mode": {
    "name": "ipython",
    "version": 3
   },
   "file_extension": ".py",
   "mimetype": "text/x-python",
   "name": "python",
   "nbconvert_exporter": "python",
   "pygments_lexer": "ipython3",
   "version": "3.5.2"
  }
 },
 "nbformat": 4,
 "nbformat_minor": 1
}
