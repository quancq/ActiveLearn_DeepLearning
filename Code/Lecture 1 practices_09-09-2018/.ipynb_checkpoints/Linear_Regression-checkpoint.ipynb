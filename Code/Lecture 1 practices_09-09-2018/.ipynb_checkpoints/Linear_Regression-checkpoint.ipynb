{
 "cells": [
  {
   "cell_type": "code",
   "execution_count": 1,
   "metadata": {},
   "outputs": [],
   "source": [
    "%matplotlib inline"
   ]
  },
  {
   "cell_type": "code",
   "execution_count": 2,
   "metadata": {},
   "outputs": [],
   "source": [
    "import numpy as np\n",
    "import matplotlib.pyplot as plt"
   ]
  },
  {
   "cell_type": "markdown",
   "metadata": {},
   "source": [
    "Simple Gradient Descent\n",
    "==============\n",
    "Minimize: $f(\\theta)=4\\theta^2-200\\theta+50$"
   ]
  },
  {
   "cell_type": "code",
   "execution_count": 17,
   "metadata": {},
   "outputs": [
    {
     "name": "stdout",
     "output_type": "stream",
     "text": [
      "Theta that produces the smallest value 25.000000033214047\n",
      "Num iterations :  13\n"
     ]
    },
    {
     "data": {
      "image/png": "[encoded data removed]",
      "text/plain": [
       "<Figure size 432x288 with 1 Axes>"
      ]
     },
     "metadata": {},
     "output_type": "display_data"
    }
   ],
   "source": [
    "thetas = np.arange(-100, 150)\n",
    "\n",
    "def f(theta):\n",
    "    #YOUR CODE HERE: function f\n",
    "    return 4 * theta * theta - 200 * theta + 50\n",
    "    pass\n",
    "\n",
    "def compute_gradient(theta):\n",
    "    #YOUR CODE HERE: gradient of the function f\n",
    "    return 8 * theta - 200\n",
    "    pass\n",
    "\n",
    "def update(theta, alpha, grad):\n",
    "    #YOUR CODE HERE: Gradient descent update\n",
    "    return theta - alpha * grad\n",
    "    pass\n",
    "\n",
    "error = 1.0\n",
    "tolerance = 1e-5\n",
    "alpha = 0.105   #learning rate\n",
    "\n",
    "theta = 143\n",
    "iteration = 1\n",
    "max_iteration = 1000\n",
    "\n",
    "while error > tolerance and iteration < max_iteration:\n",
    "    val = f(theta)\n",
    "    plt.plot(theta, f(theta), 'o')\n",
    "    grad = compute_gradient(theta)\n",
    "    \n",
    "    theta = update(theta, alpha, grad)\n",
    "\n",
    "    error = np.sum(abs(grad))\n",
    "    \n",
    "    iteration = iteration + 1\n",
    "\n",
    "print('Theta that produces the smallest value', theta)\n",
    "print(\"Num iterations : \", iteration)\n",
    "\n",
    "plt.plot(thetas, f(thetas), '-')\n",
    "plt.xlabel('theta')\n",
    "plt.ylabel('f(theta)')\n",
    "\n",
    "plt.show()"
   ]
  },
  {
   "cell_type": "markdown",
   "metadata": {},
   "source": [
    "Linear Regression\n",
    "==========\n",
    "Load the data first"
   ]
  },
  {
   "cell_type": "code",
   "execution_count": 44,
   "metadata": {},
   "outputs": [],
   "source": [
    "data = np.loadtxt(\"Linear_Regression.txt\")"
   ]
  },
  {
   "cell_type": "markdown",
   "metadata": {},
   "source": [
    "## Train\n"
   ]
  },
  {
   "cell_type": "code",
   "execution_count": 45,
   "metadata": {},
   "outputs": [
    {
     "data": {
      "text/plain": [
       "[<matplotlib.lines.Line2D at 0x7fcd35f50eb8>]"
      ]
     },
     "execution_count": 45,
     "metadata": {},
     "output_type": "execute_result"
    },
    {
     "data": {
      "image/png": "[encoded data removed]",
      "text/plain": [
       "<Figure size 432x288 with 1 Axes>"
      ]
     },
     "metadata": {},
     "output_type": "display_data"
    }
   ],
   "source": [
    "np.random.seed(7)\n",
    "shuffle = np.random.permutation(data.shape[0])\n",
    "\n",
    "portion = int(0.2 * len(data))\n",
    "\n",
    "#split into train and validation data\n",
    "test_x = data[shuffle[:portion], 0].reshape(-1, 1)\n",
    "test_y = data[shuffle[:portion], 1].reshape(-1, 1)\n",
    "\n",
    "train_x = data[shuffle[portion:], 0].reshape(-1, 1)\n",
    "train_y = data[shuffle[portion:], 1].reshape(-1, 1)\n",
    "\n",
    "# Plot data\n",
    "plt.plot(train_x, train_y, 'o')"
   ]
  },
  {
   "cell_type": "code",
   "execution_count": 50,
   "metadata": {},
   "outputs": [],
   "source": [
    "#pad x with 1 at the beginning\n",
    "def pad(x):\n",
    "    return np.hstack((np.ones((x.shape[0], 1), dtype = x.dtype), x))\n",
    "\n",
    "def predict(theta, x):\n",
    "    #YOUR CODE HERE: Given input x and parameter theta, predict output\n",
    "    x = pad(x)\n",
    "    return np.dot(x, theta.T)\n",
    "    pass\n",
    "\n",
    "# def compute_gradient(theta, x, y):\n",
    "#     #YOUR CODE HERE: Radient of the loss function\n",
    "#     grad = np.zeros(theta.shape)\n",
    "#     for i in range(x.shape[0]):\n",
    "#         grad += 2 * (np.dot(theta, x[i]) - y[i]) * x[i]\n",
    "#     grad /= x.shape[0]\n",
    "# #     pred = np.sum(theta * x, axis=1, keepdims=True)\n",
    "#     pred = np.dot(x, theta.T)\n",
    "#     deviation = y - pred\n",
    "#     error = np.sum(np.abs(deviation)) / x.shape[0]\n",
    "    \n",
    "#     return grad, error\n",
    "\n",
    "def compute_gradient(theta, x, y):\n",
    "    n_samples = x.shape[0]\n",
    "    deviation = np.dot(x, theta.T) - y\n",
    "    grad = np.dot(deviation.T, x) / n_samples\n",
    "#     error = np.sum(np.abs(deviation)) / n_samples\n",
    "    error = np.sum(deviation ** 2) / n_samples\n",
    "    \n",
    "    return grad, error"
   ]
  },
  {
   "cell_type": "code",
   "execution_count": null,
   "metadata": {},
   "outputs": [
    {
     "name": "stdout",
     "output_type": "stream",
     "text": [
      "Iteration: 10000 - Error: 1591068.3982\n",
      "Iteration: 20000 - Error: 1563040.2876\n",
      "Iteration: 30000 - Error: 1536367.1768\n",
      "Iteration: 40000 - Error: 1510983.5594\n",
      "Iteration: 50000 - Error: 1486827.0956\n",
      "Iteration: 60000 - Error: 1463838.4594\n",
      "Iteration: 70000 - Error: 1441961.1932\n",
      "Iteration: 80000 - Error: 1421141.5685\n",
      "Iteration: 90000 - Error: 1401328.4543\n",
      "Iteration: 100000 - Error: 1382473.1915\n",
      "Iteration: 110000 - Error: 1364529.4735\n",
      "Iteration: 120000 - Error: 1347453.2323\n",
      "Iteration: 130000 - Error: 1331202.5303\n",
      "Iteration: 140000 - Error: 1315737.4574\n",
      "Iteration: 150000 - Error: 1301020.0328\n",
      "Iteration: 160000 - Error: 1287014.1121\n",
      "Iteration: 170000 - Error: 1273685.2980\n",
      "Iteration: 180000 - Error: 1261000.8563\n",
      "Iteration: 190000 - Error: 1248929.6353\n",
      "Iteration: 200000 - Error: 1237441.9892\n"
     ]
    }
   ],
   "source": [
    "# Pad x with 1\n",
    "padded_train_x = pad(train_x)\n",
    "# print(\"Padded Train_x shape = \", padded_train_x.shape)\n",
    "\n",
    "theta = np.random.randn(2).reshape(1,2)\n",
    "\n",
    "alpha = 1e-5\n",
    "tolerance = 1e-5\n",
    "\n",
    "# Perform Gradient Descent\n",
    "iterations = 1\n",
    "max_iterations = 1000000\n",
    "error_history = []\n",
    "while True:\n",
    "    gradient, error = compute_gradient(theta, padded_train_x, train_y)\n",
    "    assert(gradient.shape == theta.shape)\n",
    "    new_theta = theta - alpha * gradient\n",
    "    error_history.append(error)\n",
    "\n",
    "    # Stopping Condition\n",
    "    if np.sum(abs(new_theta - theta)) < tolerance:\n",
    "        print(\"Converged.\")\n",
    "        break\n",
    "    \n",
    "    # Print error every 50 iterations\n",
    "    if iterations % 50000 == 0:\n",
    "        print(\"Iteration: %d - Error: %.4f\" %(iterations, error))\n",
    "#         print(\"Grad: \", gradient)\n",
    "#     if iterations > max_iterations:\n",
    "#         break\n",
    "    \n",
    "    iterations += 1\n",
    "    theta = new_theta\n",
    "\n",
    "print(\"\\nTheta : \", theta)\n",
    "# plt.plot(error_history)\n",
    "\n",
    "line_x = np.array([0, 100]).reshape([2,1])\n",
    "line_y = predict(theta, line_x)\n",
    "\n",
    "\n",
    "plt.plot(train_x, train_y, 'o')\n",
    "plt.plot(line_x, line_y, marker = 'o')\n",
    "\n",
    "plt.show()"
   ]
  },
  {
   "cell_type": "markdown",
   "metadata": {
    "collapsed": true
   },
   "source": [
    "## Validatation\n"
   ]
  },
  {
   "cell_type": "code",
   "execution_count": 55,
   "metadata": {},
   "outputs": [
    {
     "data": {
      "image/png": "[encoded data removed]",
      "text/plain": [
       "<Figure size 432x288 with 1 Axes>"
      ]
     },
     "metadata": {},
     "output_type": "display_data"
    }
   ],
   "source": [
    "test_y_hat = predict(theta, test_x)\n",
    "\n",
    "plt.plot(test_x, test_y, 'o')\n",
    "plt.plot(test_x, test_y_hat, 'x')\n",
    "plt.plot(line_x, line_y, marker = 'o')\n",
    "plt.show()"
   ]
  },
  {
   "cell_type": "code",
   "execution_count": null,
   "metadata": {
    "collapsed": true
   },
   "outputs": [],
   "source": []
  }
 ],
 "metadata": {
  "kernelspec": {
   "display_name": "Python 3",
   "language": "python",
   "name": "python3"
  },
  "language_info": {
   "codemirror_mode": {
    "name": "ipython",
    "version": 3
   },
   "file_extension": ".py",
   "mimetype": "text/x-python",
   "name": "python",
   "nbconvert_exporter": "python",
   "pygments_lexer": "ipython3",
   "version": "3.5.2"
  }
 },
 "nbformat": 4,
 "nbformat_minor": 1
}
