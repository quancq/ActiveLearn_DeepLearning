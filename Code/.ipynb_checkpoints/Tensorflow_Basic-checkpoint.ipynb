{
 "cells": [
  {
   "cell_type": "code",
   "execution_count": 1,
   "metadata": {},
   "outputs": [],
   "source": [
    "import tensorflow as tf\n",
    "import numpy as np"
   ]
  },
  {
   "cell_type": "code",
   "execution_count": 2,
   "metadata": {},
   "outputs": [],
   "source": [
    "input1 = tf.placeholder(tf.int32)\n",
    "input2 = tf.placeholder(tf.int32)\n",
    "r = tf.mod(input1, input2)"
   ]
  },
  {
   "cell_type": "code",
   "execution_count": 11,
   "metadata": {},
   "outputs": [],
   "source": [
    "f1 = a = 44\n",
    "f2 = b = 56"
   ]
  },
  {
   "cell_type": "code",
   "execution_count": 12,
   "metadata": {},
   "outputs": [
    {
     "name": "stdout",
     "output_type": "stream",
     "text": [
      "UCLN(44,56) = 4\n"
     ]
    }
   ],
   "source": [
    "ucln = None\n",
    "with tf.Session() as sess:\n",
    "    while True:\n",
    "        val = sess.run(r, feed_dict={input1: f1, input2: f2})\n",
    "        if val == 0:\n",
    "            ucln = f2\n",
    "            break\n",
    "        else:\n",
    "            f1 = f2\n",
    "            f2 = val\n",
    "print(\"UCLN({},{}) = {}\".format(a, b, ucln))"
   ]
  },
  {
   "cell_type": "code",
   "execution_count": 6,
   "metadata": {},
   "outputs": [
    {
     "name": "stdout",
     "output_type": "stream",
     "text": [
      "[0, 1, 1, 2, 3, 5, 8]\n"
     ]
    }
   ],
   "source": [
    "with tf.Session() as sess:\n",
    "    for i in range(5):\n",
    "        val = sess.run(output, feed_dict={input1: f1, input2: f2})\n",
    "        results.append(val)\n",
    "        \n",
    "        f1 = f2\n",
    "        f2 = val\n",
    "\n",
    "print(results)"
   ]
  },
  {
   "cell_type": "code",
   "execution_count": null,
   "metadata": {},
   "outputs": [],
   "source": []
  }
 ],
 "metadata": {
  "kernelspec": {
   "display_name": "Python 3",
   "language": "python",
   "name": "python3"
  },
  "language_info": {
   "codemirror_mode": {
    "name": "ipython",
    "version": 3
   },
   "file_extension": ".py",
   "mimetype": "text/x-python",
   "name": "python",
   "nbconvert_exporter": "python",
   "pygments_lexer": "ipython3",
   "version": "3.5.2"
  }
 },
 "nbformat": 4,
 "nbformat_minor": 2
}
