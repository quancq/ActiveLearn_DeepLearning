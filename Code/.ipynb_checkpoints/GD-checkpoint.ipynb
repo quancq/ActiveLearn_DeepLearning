{
 "cells": [
  {
   "cell_type": "code",
   "execution_count": 1,
   "metadata": {
    "colab": {},
    "colab_type": "code",
    "id": "loCBNQ65MYA5"
   },
   "outputs": [],
   "source": [
    "%matplotlib inline"
   ]
  },
  {
   "cell_type": "markdown",
   "metadata": {
    "colab_type": "text",
    "id": "mU4ANUu8MYA9"
   },
   "source": [
    "Gradient Descent\n",
    "===============\n",
    "\n",
    "This is the demo for gradient descent zigzag effect\n",
    "\n",
    "\n"
   ]
  },
  {
   "cell_type": "code",
   "execution_count": null,
   "metadata": {
    "colab": {
     "base_uri": "https://localhost:8080/",
     "height": 364
    },
    "colab_type": "code",
    "id": "9FMEjXk4MYA-",
    "outputId": "14461077-4510-4206-9d0b-003b9c1cfadd"
   },
   "outputs": [],
   "source": [
    "from mpl_toolkits import mplot3d\n",
    "import matplotlib.pyplot as plt\n",
    "import numpy as np\n",
    "\n",
    "def compute_gradient(W):\n",
    "    return np.array([8 * W[0], 2 * W[1]])\n",
    "\n",
    "def f(W):\n",
    "    return 4*W[0]**2 + W[1]**2\n",
    "  \n",
    "def update_Vanilla(W, grad, alpha, cache):\n",
    "    #vanilla update\n",
    "    return W - alpha * grad, cache\n",
    "  \n",
    "def update_Momentum(W, grad, alpha, cache):\n",
    "    v, rho = cache\n",
    "    v = rho * v + grad\n",
    "    #print(v, rho)\n",
    "    cache = v, rho\n",
    "    return W - alpha * v, cache\n",
    "\n",
    "def update_Adagrad(W, grad, alpha, cache):\n",
    "    grad_squared = cache\n",
    "    grad_squared += grad**2\n",
    "    cache = grad_squared\n",
    "    return W - alpha * grad/(np.sqrt(grad_squared) + 1e-7), cache\n",
    "\n",
    "def update_RMSProp(W, grad, alpha, cache):\n",
    "    grad_squared, decay_rate = cache\n",
    "    grad_squared = decay_rate * grad_squared + (1 - decay_rate) * grad**2\n",
    "    cache = grad_squared, decay_rate\n",
    "    return W - alpha * grad/(np.sqrt(grad_squared) + 1e-7), cache\n",
    "\n",
    "def update_Adam(W, grad, alpha, cache):\n",
    "    first_moment, second_moment, beta1, beta2, t = cache\n",
    "    \n",
    "    first_moment = beta1 * first_moment + (1 - beta1) * grad\n",
    "    second_moment = beta2 * second_moment + (1 - beta2) * grad **2\n",
    "    \n",
    "    first_unbias = first_moment / (1 - beta1 ** t)\n",
    "    second_unbias = second_moment / (1 - beta2 ** t)\n",
    "    \n",
    "    cache = first_moment, second_moment, beta1, beta2, t + 1\n",
    "    \n",
    "    return W - alpha * first_unbias/(np.sqrt(second_unbias) + 1e-7), cache\n",
    "  \n",
    "w0_grid = np.linspace(-6, 6, 30)\n",
    "w1_grid = np.linspace(-12, 12, 30)\n",
    "\n",
    "W_grid = np.meshgrid(w0_grid, w1_grid)\n",
    "Z = f(W_grid)\n",
    "\n",
    "ax = plt.axes(projection='3d')\n",
    "ax.contour3D(W_grid[0], W_grid[1], Z, 50, cmap='viridis')\n",
    "ax.set_xlabel('x')\n",
    "ax.set_ylabel('y')\n",
    "ax.set_zlabel('z');\n",
    "\n",
    "ax.view_init(60, 35)\n",
    "\n",
    "W = np.array([5, 10])\n",
    "\n",
    "trajectory = [np.append(W, f(W))]\n",
    "\n",
    "tolerance = 10E-9\n",
    "e = 1\n",
    "\n",
    "#vanilla\n",
    "#alpha = 0.2\n",
    "#cache = 0\n",
    "#update = update_Vanilla\n",
    "\n",
    "#Momentum\n",
    "#alpha = 0.2\n",
    "#cache = (0, 0.2)\n",
    "#update = update_Momentum\n",
    "\n",
    "#Adagrad\n",
    "#alpha = 15\n",
    "#cache = np.array([0.0, 0.0])\n",
    "#update = update_Adagrad\n",
    "\n",
    "#RMSProb\n",
    "alpha = 1.7\n",
    "cache = np.array([0.0, 0.0]), 0.9\n",
    "update = update_RMSProp\n",
    "\n",
    "#Adam\n",
    "# alpha = 2\n",
    "# cache = np.array([0.0, 0.0]), np.array([0.0, 0.0]), 0.05, 0.95, 1\n",
    "# update = update_Adam\n",
    "\n",
    "while e > tolerance:\n",
    "    grad = compute_gradient(W)\n",
    "    \n",
    "    W, cache = update(W, grad, alpha, cache)\n",
    "    \n",
    "    trajectory = np.append(trajectory, [np.append(W, f(W))], axis=0)\n",
    "    e = np.amax(np.absolute(grad))\n",
    "\n",
    "print(\"Minimum point:\", W)\n",
    "print(\"F(W): \", f(W))\n",
    "print(\"Number of iterations: %d\" % len(trajectory))\n",
    "\n",
    "ax.scatter3D(trajectory[:, 0], trajectory[:, 1], trajectory[:, 2], c='red', cmap='Reds');\n",
    "ax.plot3D(trajectory[:, 0], trajectory[:, 1], trajectory[:, 2], 'red')\n",
    "\n",
    "plt.show()"
   ]
  },
  {
   "cell_type": "code",
   "execution_count": 0,
   "metadata": {
    "colab": {},
    "colab_type": "code",
    "id": "NbCtsFXoMYBB"
   },
   "outputs": [],
   "source": []
  }
 ],
 "metadata": {
  "colab": {
   "collapsed_sections": [],
   "name": "GD.ipynb",
   "provenance": [],
   "version": "0.3.2"
  },
  "kernelspec": {
   "display_name": "Python 3",
   "language": "python",
   "name": "python3"
  },
  "language_info": {
   "codemirror_mode": {
    "name": "ipython",
    "version": 3
   },
   "file_extension": ".py",
   "mimetype": "text/x-python",
   "name": "python",
   "nbconvert_exporter": "python",
   "pygments_lexer": "ipython3",
   "version": "3.5.2"
  }
 },
 "nbformat": 4,
 "nbformat_minor": 1
}
